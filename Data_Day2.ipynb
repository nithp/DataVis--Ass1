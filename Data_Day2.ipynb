{
  "nbformat": 4,
  "nbformat_minor": 0,
  "metadata": {
    "colab": {
      "name": "Data Day2.ipynb",
      "provenance": [],
      "collapsed_sections": []
    },
    "kernelspec": {
      "name": "python3",
      "display_name": "Python 3"
    },
    "language_info": {
      "name": "python"
    }
  },
  "cells": [
    {
      "cell_type": "code",
      "metadata": {
        "id": "eIrg_ZhTjY_l"
      },
      "source": [
        "import matplotlib.pyplot as plt\n",
        "import numpy as np\n",
        "import pandas as pd\n",
        "%matplotlib inline\n",
        "import seaborn as sns\n",
        "from numpy.random import randn, randint, uniform, sample"
      ],
      "execution_count": 2,
      "outputs": []
    },
    {
      "cell_type": "code",
      "metadata": {
        "id": "FV-TynM0jcUC"
      },
      "source": [
        "## Create a dataframe with 10rows on random numbers and 4 columns, (columns labelled as a,b,c,d) and plot a bar chart.\n",
        "df = pd.DataFrame(randn(10, 4), columns=['a', 'b', 'c', 'd'])\n"
      ],
      "execution_count": 9,
      "outputs": []
    },
    {
      "cell_type": "code",
      "metadata": {
        "colab": {
          "base_uri": "https://localhost:8080/",
          "height": 359
        },
        "id": "JTcV0SN8F0A-",
        "outputId": "2ba44ebd-f2f9-449d-a271-0cd5f16f9123"
      },
      "source": [
        "df"
      ],
      "execution_count": 10,
      "outputs": [
        {
          "output_type": "execute_result",
          "data": {
            "text/html": [
              "<div>\n",
              "<style scoped>\n",
              "    .dataframe tbody tr th:only-of-type {\n",
              "        vertical-align: middle;\n",
              "    }\n",
              "\n",
              "    .dataframe tbody tr th {\n",
              "        vertical-align: top;\n",
              "    }\n",
              "\n",
              "    .dataframe thead th {\n",
              "        text-align: right;\n",
              "    }\n",
              "</style>\n",
              "<table border=\"1\" class=\"dataframe\">\n",
              "  <thead>\n",
              "    <tr style=\"text-align: right;\">\n",
              "      <th></th>\n",
              "      <th>a</th>\n",
              "      <th>b</th>\n",
              "      <th>c</th>\n",
              "      <th>d</th>\n",
              "    </tr>\n",
              "  </thead>\n",
              "  <tbody>\n",
              "    <tr>\n",
              "      <th>0</th>\n",
              "      <td>0.109420</td>\n",
              "      <td>-0.160890</td>\n",
              "      <td>-1.842779</td>\n",
              "      <td>0.118192</td>\n",
              "    </tr>\n",
              "    <tr>\n",
              "      <th>1</th>\n",
              "      <td>0.857940</td>\n",
              "      <td>-0.113072</td>\n",
              "      <td>1.055581</td>\n",
              "      <td>1.721610</td>\n",
              "    </tr>\n",
              "    <tr>\n",
              "      <th>2</th>\n",
              "      <td>0.942248</td>\n",
              "      <td>-0.277393</td>\n",
              "      <td>-1.085243</td>\n",
              "      <td>-2.263479</td>\n",
              "    </tr>\n",
              "    <tr>\n",
              "      <th>3</th>\n",
              "      <td>-1.460221</td>\n",
              "      <td>1.617583</td>\n",
              "      <td>0.223298</td>\n",
              "      <td>-0.794047</td>\n",
              "    </tr>\n",
              "    <tr>\n",
              "      <th>4</th>\n",
              "      <td>-1.704067</td>\n",
              "      <td>-0.332089</td>\n",
              "      <td>-0.550810</td>\n",
              "      <td>1.258199</td>\n",
              "    </tr>\n",
              "    <tr>\n",
              "      <th>5</th>\n",
              "      <td>1.033550</td>\n",
              "      <td>-0.604488</td>\n",
              "      <td>0.770357</td>\n",
              "      <td>0.171027</td>\n",
              "    </tr>\n",
              "    <tr>\n",
              "      <th>6</th>\n",
              "      <td>-0.495128</td>\n",
              "      <td>-0.025721</td>\n",
              "      <td>-0.039216</td>\n",
              "      <td>0.305439</td>\n",
              "    </tr>\n",
              "    <tr>\n",
              "      <th>7</th>\n",
              "      <td>1.172625</td>\n",
              "      <td>-0.496182</td>\n",
              "      <td>-0.148477</td>\n",
              "      <td>-1.296199</td>\n",
              "    </tr>\n",
              "    <tr>\n",
              "      <th>8</th>\n",
              "      <td>-1.459605</td>\n",
              "      <td>0.699833</td>\n",
              "      <td>-0.547896</td>\n",
              "      <td>-1.204269</td>\n",
              "    </tr>\n",
              "    <tr>\n",
              "      <th>9</th>\n",
              "      <td>-0.747921</td>\n",
              "      <td>-1.921070</td>\n",
              "      <td>-0.016879</td>\n",
              "      <td>-0.521617</td>\n",
              "    </tr>\n",
              "  </tbody>\n",
              "</table>\n",
              "</div>"
            ],
            "text/plain": [
              "          a         b         c         d\n",
              "0  0.109420 -0.160890 -1.842779  0.118192\n",
              "1  0.857940 -0.113072  1.055581  1.721610\n",
              "2  0.942248 -0.277393 -1.085243 -2.263479\n",
              "3 -1.460221  1.617583  0.223298 -0.794047\n",
              "4 -1.704067 -0.332089 -0.550810  1.258199\n",
              "5  1.033550 -0.604488  0.770357  0.171027\n",
              "6 -0.495128 -0.025721 -0.039216  0.305439\n",
              "7  1.172625 -0.496182 -0.148477 -1.296199\n",
              "8 -1.459605  0.699833 -0.547896 -1.204269\n",
              "9 -0.747921 -1.921070 -0.016879 -0.521617"
            ]
          },
          "metadata": {
            "tags": []
          },
          "execution_count": 10
        }
      ]
    },
    {
      "cell_type": "code",
      "metadata": {
        "id": "GLoB-bhgjceo",
        "colab": {
          "base_uri": "https://localhost:8080/",
          "height": 567
        },
        "outputId": "43435e3a-04f9-466a-d7ef-a768af057d94"
      },
      "source": [
        "#plotting a bar graph for df\n",
        "df.plot.bar(figsize = (9,9))\n",
        "plt.title('Bar Graph')"
      ],
      "execution_count": 8,
      "outputs": [
        {
          "output_type": "execute_result",
          "data": {
            "text/plain": [
              "Text(0.5, 1.0, 'Bar Graph')"
            ]
          },
          "metadata": {
            "tags": []
          },
          "execution_count": 8
        },
        {
          "output_type": "display_data",
          "data": {
            "image/png": "[encoded data removed]",
            "text/plain": [
              "<Figure size 648x648 with 1 Axes>"
            ]
          },
          "metadata": {
            "tags": [],
            "needs_background": "light"
          }
        }
      ]
    },
    {
      "cell_type": "code",
      "metadata": {
        "id": "AwDivsWijcmF"
      },
      "source": [
        ""
      ],
      "execution_count": null,
      "outputs": []
    },
    {
      "cell_type": "code",
      "metadata": {
        "id": "3h5dv9pIjdCZ"
      },
      "source": [
        ""
      ],
      "execution_count": null,
      "outputs": []
    },
    {
      "cell_type": "code",
      "metadata": {
        "id": "qPGaBVZAjdLi"
      },
      "source": [
        ""
      ],
      "execution_count": null,
      "outputs": []
    },
    {
      "cell_type": "code",
      "metadata": {
        "id": "PM4oa5IajdTR"
      },
      "source": [
        ""
      ],
      "execution_count": null,
      "outputs": []
    },
    {
      "cell_type": "code",
      "metadata": {
        "id": "YgS9nI1Ejda5"
      },
      "source": [
        ""
      ],
      "execution_count": null,
      "outputs": []
    },
    {
      "cell_type": "code",
      "metadata": {
        "id": "sS4Lryvpjdhn"
      },
      "source": [
        ""
      ],
      "execution_count": null,
      "outputs": []
    },
    {
      "cell_type": "code",
      "metadata": {
        "id": "lgganngNjdoW"
      },
      "source": [
        ""
      ],
      "execution_count": null,
      "outputs": []
    }
  ]
}